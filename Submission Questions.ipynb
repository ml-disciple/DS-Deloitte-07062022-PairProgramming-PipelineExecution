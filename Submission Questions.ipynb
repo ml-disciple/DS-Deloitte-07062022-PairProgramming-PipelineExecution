{
 "cells": [
  {
   "cell_type": "markdown",
   "id": "83d0e696",
   "metadata": {},
   "source": [
    "# Were you able to successfully create and execute the pipeline using the provided walkthrough?"
   ]
  },
  {
   "cell_type": "markdown",
   "id": "1e975f83",
   "metadata": {},
   "source": [
    "###### Please provide your answer here &darr;"
   ]
  },
  {
   "cell_type": "markdown",
   "id": "a586c181",
   "metadata": {},
   "source": [
    "Sort of, I was able to run the first xgboost lab (xgboost_part_1.ipynb), but I haven't gotten to the second part yet."
   ]
  },
  {
   "cell_type": "markdown",
   "id": "5cafcc06",
   "metadata": {},
   "source": [
    "# What (if any) blockers did you encounter?"
   ]
  },
  {
   "cell_type": "markdown",
   "id": "c15e1b40",
   "metadata": {},
   "source": [
    "###### Please provide your answer here &darr;"
   ]
  },
  {
   "cell_type": "markdown",
   "id": "b974ab1a",
   "metadata": {},
   "source": [
    "None so far, my machine is just too underpowered for this work."
   ]
  },
  {
   "cell_type": "markdown",
   "id": "e0328248",
   "metadata": {},
   "source": [
    "# Do you have any suggestions for improving this material?"
   ]
  },
  {
   "cell_type": "markdown",
   "id": "a702b9db",
   "metadata": {},
   "source": [
    "###### Please provide your answer here &darr;"
   ]
  },
  {
   "cell_type": "markdown",
   "id": "32645543",
   "metadata": {},
   "source": [
    "I was a little confused about which notebook to run because the github link gives one notebook, and there's also the two notebooks related to xgboost labs, so maybe a clear instruction on which notebook(s) to look out would help.<br><br>Also, I recommend uploading a copy of the 2019-Nov.csv data with significantly less rows (perhaps a couple of million?) to the canvas site, so students have the option to use saturn instead of running the notebooks locally."
   ]
  },
  {
   "cell_type": "code",
   "execution_count": null,
   "id": "dde14ccf-9860-47a6-939c-eebb378e1805",
   "metadata": {},
   "outputs": [],
   "source": []
  }
 ],
 "metadata": {
  "kernelspec": {
   "display_name": "Python 3 (ipykernel)",
   "language": "python",
   "name": "python3"
  },
  "language_info": {
   "codemirror_mode": {
    "name": "ipython",
    "version": 3
   },
   "file_extension": ".py",
   "mimetype": "text/x-python",
   "name": "python",
   "nbconvert_exporter": "python",
   "pygments_lexer": "ipython3",
   "version": "3.11.4"
  }
 },
 "nbformat": 4,
 "nbformat_minor": 5
}
