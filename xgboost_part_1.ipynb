{
 "cells": [
  {
   "cell_type": "markdown",
   "metadata": {},
   "source": [
    "## Introduction  \n",
    "In this lab, we would like to make an XGBoost model to study the e-commerce behavior from a multi-category store. First, we need to download the data to your local machine, then we will load the data into a Pandas DataFrame."
   ]
  },
  {
   "cell_type": "markdown",
   "metadata": {},
   "source": [
    "## Objectives\n",
    "- Apply XGBoost to an example"
   ]
  },
  {
   "cell_type": "markdown",
   "metadata": {},
   "source": [
    "## Instruction"
   ]
  },
  {
   "cell_type": "markdown",
   "metadata": {},
   "source": [
    "- Accept the kaggle policy and download the data from here https://www.kaggle.com/code/tshephisho/ecommerce-behaviour-using-xgboost/data\n",
    "- For the first model building, we'll only use the 2019-Nov csv data (which is still around ~2gb)"
   ]
  },
  {
   "cell_type": "code",
   "execution_count": 1,
   "metadata": {
    "_cell_guid": "b1076dfc-b9ad-4769-8c92-a6c4dae69d19",
    "_uuid": "8f2839f25d086af736a60e9eeb907d3b93b6e0e5",
    "tags": []
   },
   "outputs": [],
   "source": [
    "# import necessary libraries\n",
    "import numpy as np # linear algebra\n",
    "import pandas as pd # data processing, CSV file I/O (e.g. pd.read_csv)"
   ]
  },
  {
   "cell_type": "code",
   "execution_count": 2,
   "metadata": {
    "tags": []
   },
   "outputs": [],
   "source": [
    "import matplotlib.pyplot as plt\n",
    "#import squarify\n",
    "import matplotlib.dates as dates\n",
    "from datetime import datetime\n",
    "\n",
    "%matplotlib inline"
   ]
  },
  {
   "cell_type": "code",
   "execution_count": 18,
   "metadata": {
    "_cell_guid": "79c7e3d0-c299-4dcb-8224-4455121ee9b0",
    "_uuid": "d629ff2d2480ee46fbb7e2d37f6b5fab8052498a",
    "tags": []
   },
   "outputs": [],
   "source": [
    "# fill this in with your path (absolute path works as well)\n",
    "path_to_file = \"2019-Nov.csv\"\n",
    "df = pd.read_csv(path_to_file, nrows=2_000_000)"
   ]
  },
  {
   "cell_type": "markdown",
   "metadata": {},
   "source": [
    "Let's do some exploratory analysis on the data!"
   ]
  },
  {
   "cell_type": "code",
   "execution_count": 19,
   "metadata": {
    "tags": []
   },
   "outputs": [
    {
     "data": {
      "text/html": [
       "<div>\n",
       "<style scoped>\n",
       "    .dataframe tbody tr th:only-of-type {\n",
       "        vertical-align: middle;\n",
       "    }\n",
       "\n",
       "    .dataframe tbody tr th {\n",
       "        vertical-align: top;\n",
       "    }\n",
       "\n",
       "    .dataframe thead th {\n",
       "        text-align: right;\n",
       "    }\n",
       "</style>\n",
       "<table border=\"1\" class=\"dataframe\">\n",
       "  <thead>\n",
       "    <tr style=\"text-align: right;\">\n",
       "      <th></th>\n",
       "      <th>event_time</th>\n",
       "      <th>event_type</th>\n",
       "      <th>product_id</th>\n",
       "      <th>category_id</th>\n",
       "      <th>category_code</th>\n",
       "      <th>brand</th>\n",
       "      <th>price</th>\n",
       "      <th>user_id</th>\n",
       "      <th>user_session</th>\n",
       "    </tr>\n",
       "  </thead>\n",
       "  <tbody>\n",
       "    <tr>\n",
       "      <th>0</th>\n",
       "      <td>2019-11-01 00:00:00 UTC</td>\n",
       "      <td>view</td>\n",
       "      <td>1003461</td>\n",
       "      <td>2053013555631882655</td>\n",
       "      <td>electronics.smartphone</td>\n",
       "      <td>xiaomi</td>\n",
       "      <td>489.07</td>\n",
       "      <td>520088904</td>\n",
       "      <td>4d3b30da-a5e4-49df-b1a8-ba5943f1dd33</td>\n",
       "    </tr>\n",
       "    <tr>\n",
       "      <th>1</th>\n",
       "      <td>2019-11-01 00:00:00 UTC</td>\n",
       "      <td>view</td>\n",
       "      <td>5000088</td>\n",
       "      <td>2053013566100866035</td>\n",
       "      <td>appliances.sewing_machine</td>\n",
       "      <td>janome</td>\n",
       "      <td>293.65</td>\n",
       "      <td>530496790</td>\n",
       "      <td>8e5f4f83-366c-4f70-860e-ca7417414283</td>\n",
       "    </tr>\n",
       "  </tbody>\n",
       "</table>\n",
       "</div>"
      ],
      "text/plain": [
       "                event_time event_type  product_id          category_id  \\\n",
       "0  2019-11-01 00:00:00 UTC       view     1003461  2053013555631882655   \n",
       "1  2019-11-01 00:00:00 UTC       view     5000088  2053013566100866035   \n",
       "\n",
       "               category_code   brand   price    user_id  \\\n",
       "0     electronics.smartphone  xiaomi  489.07  520088904   \n",
       "1  appliances.sewing_machine  janome  293.65  530496790   \n",
       "\n",
       "                           user_session  \n",
       "0  4d3b30da-a5e4-49df-b1a8-ba5943f1dd33  \n",
       "1  8e5f4f83-366c-4f70-860e-ca7417414283  "
      ]
     },
     "execution_count": 19,
     "metadata": {},
     "output_type": "execute_result"
    }
   ],
   "source": [
    "# take a quick look of the data\n",
    "df.head(2)"
   ]
  },
  {
   "cell_type": "code",
   "execution_count": 20,
   "metadata": {
    "tags": []
   },
   "outputs": [
    {
     "data": {
      "text/html": [
       "<div>\n",
       "<style scoped>\n",
       "    .dataframe tbody tr th:only-of-type {\n",
       "        vertical-align: middle;\n",
       "    }\n",
       "\n",
       "    .dataframe tbody tr th {\n",
       "        vertical-align: top;\n",
       "    }\n",
       "\n",
       "    .dataframe thead th {\n",
       "        text-align: right;\n",
       "    }\n",
       "</style>\n",
       "<table border=\"1\" class=\"dataframe\">\n",
       "  <thead>\n",
       "    <tr style=\"text-align: right;\">\n",
       "      <th></th>\n",
       "      <th>event_time</th>\n",
       "      <th>event_type</th>\n",
       "      <th>product_id</th>\n",
       "      <th>category_id</th>\n",
       "      <th>category_code</th>\n",
       "      <th>brand</th>\n",
       "      <th>price</th>\n",
       "      <th>user_id</th>\n",
       "      <th>user_session</th>\n",
       "    </tr>\n",
       "  </thead>\n",
       "  <tbody>\n",
       "    <tr>\n",
       "      <th>1999998</th>\n",
       "      <td>2019-11-02 09:40:42 UTC</td>\n",
       "      <td>view</td>\n",
       "      <td>22400036</td>\n",
       "      <td>2053013554474254687</td>\n",
       "      <td>electronics.audio.microphone</td>\n",
       "      <td>hoco</td>\n",
       "      <td>25.71</td>\n",
       "      <td>566726454</td>\n",
       "      <td>b0f7ab51-cf1c-49e9-a7ee-2bb40c8d48d0</td>\n",
       "    </tr>\n",
       "    <tr>\n",
       "      <th>1999999</th>\n",
       "      <td>2019-11-02 09:40:42 UTC</td>\n",
       "      <td>view</td>\n",
       "      <td>8500459</td>\n",
       "      <td>2053013552259662037</td>\n",
       "      <td>NaN</td>\n",
       "      <td>NaN</td>\n",
       "      <td>226.49</td>\n",
       "      <td>566727531</td>\n",
       "      <td>f273ae70-3a7a-486b-a238-984aa622e537</td>\n",
       "    </tr>\n",
       "  </tbody>\n",
       "</table>\n",
       "</div>"
      ],
      "text/plain": [
       "                      event_time event_type  product_id          category_id  \\\n",
       "1999998  2019-11-02 09:40:42 UTC       view    22400036  2053013554474254687   \n",
       "1999999  2019-11-02 09:40:42 UTC       view     8500459  2053013552259662037   \n",
       "\n",
       "                        category_code brand   price    user_id  \\\n",
       "1999998  electronics.audio.microphone  hoco   25.71  566726454   \n",
       "1999999                           NaN   NaN  226.49  566727531   \n",
       "\n",
       "                                 user_session  \n",
       "1999998  b0f7ab51-cf1c-49e9-a7ee-2bb40c8d48d0  \n",
       "1999999  f273ae70-3a7a-486b-a238-984aa622e537  "
      ]
     },
     "execution_count": 20,
     "metadata": {},
     "output_type": "execute_result"
    }
   ],
   "source": [
    "df.tail(2)"
   ]
  },
  {
   "cell_type": "code",
   "execution_count": 21,
   "metadata": {
    "tags": []
   },
   "outputs": [
    {
     "name": "stdout",
     "output_type": "stream",
     "text": [
      "<class 'pandas.core.frame.DataFrame'>\n",
      "RangeIndex: 2000000 entries, 0 to 1999999\n",
      "Data columns (total 9 columns):\n",
      " #   Column         Dtype  \n",
      "---  ------         -----  \n",
      " 0   event_time     object \n",
      " 1   event_type     object \n",
      " 2   product_id     int64  \n",
      " 3   category_id    int64  \n",
      " 4   category_code  object \n",
      " 5   brand          object \n",
      " 6   price          float64\n",
      " 7   user_id        int64  \n",
      " 8   user_session   object \n",
      "dtypes: float64(1), int64(3), object(5)\n",
      "memory usage: 137.3+ MB\n"
     ]
    }
   ],
   "source": [
    "df.info()"
   ]
  },
  {
   "cell_type": "code",
   "execution_count": 22,
   "metadata": {
    "tags": []
   },
   "outputs": [
    {
     "data": {
      "text/plain": [
       "(2000000, 9)"
      ]
     },
     "execution_count": 22,
     "metadata": {},
     "output_type": "execute_result"
    }
   ],
   "source": [
    "df.shape"
   ]
  },
  {
   "cell_type": "code",
   "execution_count": 23,
   "metadata": {
    "tags": []
   },
   "outputs": [
    {
     "data": {
      "text/plain": [
       "Index(['event_time', 'event_type', 'product_id', 'category_id',\n",
       "       'category_code', 'brand', 'price', 'user_id', 'user_session'],\n",
       "      dtype='object')"
      ]
     },
     "execution_count": 23,
     "metadata": {},
     "output_type": "execute_result"
    }
   ],
   "source": [
    "df.columns"
   ]
  },
  {
   "cell_type": "markdown",
   "metadata": {},
   "source": [
    "# Know your Customers\n",
    "How many unique customers visit the site?"
   ]
  },
  {
   "cell_type": "code",
   "execution_count": 24,
   "metadata": {
    "tags": []
   },
   "outputs": [
    {
     "name": "stdout",
     "output_type": "stream",
     "text": [
      "visitors: 300008\n"
     ]
    }
   ],
   "source": [
    "visitor = df['user_id'].nunique()\n",
    "print (\"visitors: {}\".format(visitor))"
   ]
  },
  {
   "cell_type": "markdown",
   "metadata": {},
   "source": [
    "# Visitors Daily Trend\n",
    "Does traffic fluctuate by date? Try using the `event_time` and `user_id` to see traffic, and construct the plots for visualization. "
   ]
  },
  {
   "cell_type": "code",
   "execution_count": 25,
   "metadata": {
    "tags": []
   },
   "outputs": [
    {
     "data": {
      "image/png": "[encoded data removed]",
      "text/plain": [
       "<Figure size 2000x800 with 1 Axes>"
      ]
     },
     "metadata": {},
     "output_type": "display_data"
    }
   ],
   "source": [
    "d = df.loc[:, ['event_time','user_id']]\n",
    "d['event_time'] = d['event_time'].apply(lambda s: str(s)[0:10])\n",
    "visitor_by_date = d.drop_duplicates().groupby(['event_time'])['user_id'].agg(['count'])\\\n",
    "    .sort_values(by=['event_time'], ascending=True)\n",
    "x = pd.Series(visitor_by_date.index.values).apply(lambda s: datetime.strptime(s, '%Y-%m-%d').date())\n",
    "y = visitor_by_date['count']\n",
    "plt.rcParams['figure.figsize'] = (20, 8)\n",
    "\n",
    "plt.plot(x,y)\n",
    "plt.show()"
   ]
  },
  {
   "cell_type": "markdown",
   "metadata": {},
   "source": [
    "### By Category and Product\n",
    "With which category do customers interact the most? What brand do they view the most? You can choose just the categories with at least 30 records in order to construct the plots."
   ]
  },
  {
   "cell_type": "code",
   "execution_count": 26,
   "metadata": {
    "tags": []
   },
   "outputs": [
    {
     "data": {
      "image/png": "[encoded data removed]",
      "text/plain": [
       "<Figure size 2000x800 with 1 Axes>"
      ]
     },
     "metadata": {},
     "output_type": "display_data"
    }
   ],
   "source": [
    "max_category_num = 30\n",
    "top_category = df.loc[:, 'category_code'].value_counts()[:max_category_num].sort_values(ascending=False)\n",
    "plt.bar(height=top_category, x=top_category.index.array,\n",
    "              color=[\"red\",\"cyan\",\"green\",\"orange\",\"blue\",\"grey\"], alpha=0.7)\n",
    "plt.axis('off')\n",
    "plt.show()"
   ]
  },
  {
   "cell_type": "markdown",
   "metadata": {},
   "source": [
    "## When the event_type is \"purchase\", what item do customers buy?\n",
    "\n",
    "Try using `'event_type' == 'purchase'` and drop empty rows to assess which categories customers buy."
   ]
  },
  {
   "cell_type": "code",
   "execution_count": 29,
   "metadata": {
    "tags": []
   },
   "outputs": [
    {
     "data": {
      "text/plain": [
       "electronics.smartphone         14556\n",
       "electronics.audio.headphone     1242\n",
       "electronics.video.tv             876\n",
       "electronics.clocks               731\n",
       "appliances.kitchen.washer        639\n",
       "                               ...  \n",
       "construction.tools.light           1\n",
       "sport.tennis                       1\n",
       "apparel.sock                       1\n",
       "accessories.umbrella               1\n",
       "auto.accessories.winch             1\n",
       "Name: category_code, Length: 108, dtype: int64"
      ]
     },
     "execution_count": 29,
     "metadata": {},
     "output_type": "execute_result"
    }
   ],
   "source": [
    "# your code\n",
    "df[df['event_type'] == 'purchase']['category_code'].value_counts()\n"
   ]
  },
  {
   "cell_type": "markdown",
   "metadata": {},
   "source": [
    "## What brands do the customers buy?\n",
    "Try grouping by brand and sorting the values by the brand name."
   ]
  },
  {
   "cell_type": "code",
   "execution_count": 34,
   "metadata": {
    "tags": []
   },
   "outputs": [
    {
     "data": {
      "text/plain": [
       "brand       event_time               event_type  product_id  category_id          category_code                  price    user_id    user_session                        \n",
       "a-elita     2019-11-01 09:22:11 UTC  view        32900095    2055156924407612189  accessories.bag                73.28    513255079  6de6b8fc-58aa-4272-84e9-e616dd21eff1    1\n",
       "            2019-11-02 08:29:30 UTC  view        32900083    2055156924407612189  accessories.bag                8.49     550607965  f3b9eade-e6db-49cf-8b3d-8acf4d58c12a    1\n",
       "aardwolf    2019-11-02 02:38:36 UTC  view        30901103    2053013554004492609  computers.components.cooler    79.15    560959712  9d5757b3-f041-4e2d-aa06-2774750a8eba    1\n",
       "accumaster  2019-11-02 06:07:17 UTC  view        27600466    2053013560061067945  country_yard.lawn_mower        97.49    557027642  8d63cde8-0dd0-4113-9515-eae8b6b72048    1\n",
       "acd         2019-11-01 05:34:53 UTC  view        30901089    2053013554004492609  computers.components.cooler    5.53     513632282  0f012843-c4c3-4d6b-9d1f-d9e6283a5075    1\n",
       "                                                                                                                                                                            ..\n",
       "zubr        2019-11-01 15:37:03 UTC  view        50600091    2134905044833666047  auto.accessories.compressor    242.12   537531609  c0902a1a-c464-4545-b086-e83e575ab130    1\n",
       "            2019-11-01 15:36:49 UTC  view        50600091    2134905044833666047  auto.accessories.compressor    242.12   537531609  c0902a1a-c464-4545-b086-e83e575ab130    1\n",
       "            2019-11-01 15:31:05 UTC  view        50600096    2134905044833666047  auto.accessories.compressor    37.99    513412695  3ffe104f-5411-4b2b-93b0-581f0389130b    1\n",
       "            2019-11-01 15:31:00 UTC  view        51000036    2134905044766557181  appliances.environment.vacuum  464.87   554017740  91524a04-4bb7-4b21-ab16-70a16d41b331    1\n",
       "            2019-11-02 08:43:29 UTC  view        30000289    2127425436764865054  construction.tools.welding     1904.81  566490978  52c39c6e-8f9f-4f21-a2be-3edca566a511    1\n",
       "Length: 1239986, dtype: int64"
      ]
     },
     "execution_count": 34,
     "metadata": {},
     "output_type": "execute_result"
    }
   ],
   "source": [
    "# your code\n",
    "df.groupby('brand').value_counts()\n"
   ]
  },
  {
   "cell_type": "code",
   "execution_count": 35,
   "metadata": {
    "tags": []
   },
   "outputs": [],
   "source": [
    "del d # free memory"
   ]
  },
  {
   "cell_type": "markdown",
   "metadata": {},
   "source": [
    "# Modeling: predict at the time of addition to a shopping cart if the user will purchase a given product or not\n",
    "\n",
    "### Feature engineering\n",
    "\n",
    "The goal of this modeling is to predict if the user will purchase a product or not when they add the product to the cart. This is called `cart abandonment` if the user does not purchase.\n",
    "\n",
    "First, reconstruct and restructure the data to feed into the machine learning model. For this use case, target only the data for which customers have \"put\" the product into the cart. The relevant `event_type`s are thus \"cart\" and \"purchase\".\n",
    "\n",
    "Create these new features in the training data set:\n",
    "- `category_level1`: category\n",
    "- `category_level2`: sub-category --> split on the \".\" in the category name\n",
    "- `weekday`: weekday of the event --> convert `event_time` to a datetime object, then use `pandas.Timestamp.weekday`\n",
    "- `activity_count`: number of activity in that session\n",
    "- `is_purchased`: whether the put in cart item is purchased, this will be our categorical output.\n",
    "\n",
    "Make sure to de-dup any record."
   ]
  },
  {
   "cell_type": "markdown",
   "metadata": {},
   "source": [
    "**Prepare a dataframe for counting activity in the session**"
   ]
  },
  {
   "cell_type": "code",
   "execution_count": 37,
   "metadata": {
    "tags": []
   },
   "outputs": [],
   "source": [
    "# your code\n",
    "# first just eliminate the records where event_type = \"view\"\n",
    "\n",
    "#cart_purchase_users_all_activity = "
   ]
  },
  {
   "cell_type": "code",
   "execution_count": null,
   "metadata": {},
   "outputs": [],
   "source": [
    "# now we get the number of activities by user session\n",
    "\n",
    "activity_in_session = cart_purchase_users_all_activity.groupby(['user_session'])['event_type'].count().reset_index()\n",
    "activity_in_session = activity_in_session.rename(columns={\"event_type\": \"activity_count\"})"
   ]
  },
  {
   "cell_type": "code",
   "execution_count": null,
   "metadata": {},
   "outputs": [],
   "source": [
    "df_targets = cart_purchase_users_all_activity.copy()"
   ]
  },
  {
   "cell_type": "code",
   "execution_count": null,
   "metadata": {},
   "outputs": [],
   "source": [
    "# Change the event_time to a timestamp\n",
    "\n",
    "df_targets['timestamp'] = None"
   ]
  },
  {
   "cell_type": "code",
   "execution_count": null,
   "metadata": {},
   "outputs": [],
   "source": [
    "# Use pandas.dt.dayofweek to get the day of the week"
   ]
  },
  {
   "cell_type": "code",
   "execution_count": null,
   "metadata": {},
   "outputs": [],
   "source": [
    "df_targets = df_targets.merge(activity_in_session, on='user_session', how='left')"
   ]
  },
  {
   "cell_type": "code",
   "execution_count": null,
   "metadata": {},
   "outputs": [],
   "source": [
    "df_targets['activity_count'] = df_targets['activity_count'].fillna(0)"
   ]
  },
  {
   "cell_type": "code",
   "execution_count": null,
   "metadata": {},
   "outputs": [],
   "source": [
    "df_targets.head()"
   ]
  },
  {
   "cell_type": "markdown",
   "metadata": {},
   "source": [
    "## Save new data structure for modeling"
   ]
  },
  {
   "cell_type": "code",
   "execution_count": null,
   "metadata": {},
   "outputs": [],
   "source": [
    "df_targets.to_csv('training_data.csv')"
   ]
  },
  {
   "cell_type": "code",
   "execution_count": null,
   "metadata": {},
   "outputs": [],
   "source": [
    "df_targets.info()"
   ]
  },
  {
   "cell_type": "code",
   "execution_count": null,
   "metadata": {},
   "outputs": [],
   "source": [
    "from sklearn.preprocessing import LabelEncoder\n",
    "from sklearn.preprocessing import MinMaxScaler\n",
    "from sklearn.model_selection import train_test_split\n",
    "from xgboost import plot_importance\n",
    "from sklearn.utils import resample\n",
    "from sklearn import metrics"
   ]
  },
  {
   "cell_type": "markdown",
   "metadata": {},
   "source": [
    "## Resampling training set"
   ]
  },
  {
   "cell_type": "code",
   "execution_count": null,
   "metadata": {},
   "outputs": [],
   "source": [
    "is_purcahase_set = df_targets[df_targets['is_purchased']== 1]\n",
    "is_purcahase_set.shape[0]"
   ]
  },
  {
   "cell_type": "code",
   "execution_count": null,
   "metadata": {},
   "outputs": [],
   "source": [
    "not_purcahase_set = df_targets[df_targets['is_purchased']== 0]\n",
    "not_purcahase_set.shape[0]"
   ]
  },
  {
   "cell_type": "code",
   "execution_count": null,
   "metadata": {},
   "outputs": [],
   "source": [
    "n_samples = 500000\n",
    "is_purchase_downsampled = resample(is_purcahase_set,\n",
    "                                replace = False, \n",
    "                                n_samples = n_samples,\n",
    "                                random_state = 27)\n",
    "not_purcahase_set_downsampled = resample(not_purcahase_set,\n",
    "                                replace = False,\n",
    "                                n_samples = n_samples,\n",
    "                                random_state = 27)"
   ]
  },
  {
   "cell_type": "code",
   "execution_count": null,
   "metadata": {},
   "outputs": [],
   "source": [
    "downsampled = pd.concat([is_purchase_downsampled, not_purcahase_set_downsampled])\n",
    "downsampled['is_purchased'].value_counts()"
   ]
  },
  {
   "cell_type": "code",
   "execution_count": null,
   "metadata": {},
   "outputs": [],
   "source": [
    "features = downsampled.loc[:,\n",
    "                           ['brand', 'price', 'weekday', 'category_level1',\n",
    "                            'category_level2', 'activity_count']]"
   ]
  },
  {
   "cell_type": "markdown",
   "metadata": {},
   "source": [
    "## Encode categorical variables"
   ]
  },
  {
   "cell_type": "code",
   "execution_count": null,
   "metadata": {},
   "outputs": [],
   "source": [
    "features.loc[:,'brand'] = LabelEncoder().fit_transform(downsampled.loc[:,'brand'].copy())\n",
    "features.loc[:,'weekday'] = LabelEncoder().fit_transform(downsampled.loc[:,'weekday'].copy())\n",
    "features.loc[:,'category_level1'] = LabelEncoder().fit_transform(downsampled.loc[:,'category_level1'].copy())\n",
    "features.loc[:,'category_level2'] = LabelEncoder().fit_transform(downsampled.loc[:,'category_level2'].copy())\n",
    "\n",
    "is_purchased = LabelEncoder().fit_transform(downsampled['is_purchased'])\n",
    "features.head()"
   ]
  },
  {
   "cell_type": "code",
   "execution_count": null,
   "metadata": {},
   "outputs": [],
   "source": [
    "print(list(features.columns))"
   ]
  },
  {
   "cell_type": "markdown",
   "metadata": {},
   "source": [
    "## Split the data"
   ]
  },
  {
   "cell_type": "code",
   "execution_count": null,
   "metadata": {},
   "outputs": [],
   "source": [
    "X_train, X_test, y_train, y_test = train_test_split(features, \n",
    "                                                    is_purchased, \n",
    "                                                    test_size = 0.3, \n",
    "                                                    random_state = 42)"
   ]
  },
  {
   "cell_type": "markdown",
   "metadata": {},
   "source": [
    "## Train the model\n",
    "Choose learning rate of 0.1 on XGBClassifier."
   ]
  },
  {
   "cell_type": "code",
   "execution_count": null,
   "metadata": {},
   "outputs": [],
   "source": [
    "from xgboost import XGBClassifier\n",
    "model = XGBClassifier(learning_rate=0.1)\n",
    "model.fit(X_train, y_train)\n",
    "y_pred = model.predict(X_test)"
   ]
  },
  {
   "cell_type": "code",
   "execution_count": null,
   "metadata": {},
   "outputs": [],
   "source": [
    "print(\"Accuracy:\",metrics.accuracy_score(y_test, y_pred))\n",
    "print(\"Precision:\",metrics.precision_score(y_test, y_pred))\n",
    "print(\"Recall:\",metrics.recall_score(y_test, y_pred))\n",
    "print(\"fbeta:\",metrics.fbeta_score(y_test, y_pred, average='weighted', beta=0.5))"
   ]
  },
  {
   "cell_type": "markdown",
   "metadata": {},
   "source": [
    "## Feature importance\n",
    "Show feature importance using plot_importance"
   ]
  },
  {
   "cell_type": "code",
   "execution_count": null,
   "metadata": {},
   "outputs": [],
   "source": [
    "plot_importance(model, max_num_features=10, importance_type ='gain')\n",
    "plt.rcParams['figure.figsize'] = (40,10)\n",
    "plt.show()"
   ]
  },
  {
   "cell_type": "code",
   "execution_count": null,
   "metadata": {},
   "outputs": [],
   "source": []
  }
 ],
 "metadata": {
  "kernelspec": {
   "display_name": "Python 3 (ipykernel)",
   "language": "python",
   "name": "python3"
  },
  "language_info": {
   "codemirror_mode": {
    "name": "ipython",
    "version": 3
   },
   "file_extension": ".py",
   "mimetype": "text/x-python",
   "name": "python",
   "nbconvert_exporter": "python",
   "pygments_lexer": "ipython3",
   "version": "3.11.4"
  }
 },
 "nbformat": 4,
 "nbformat_minor": 4
}
